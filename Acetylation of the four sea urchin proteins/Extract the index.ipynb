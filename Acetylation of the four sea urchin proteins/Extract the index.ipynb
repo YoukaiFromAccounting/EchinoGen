{
 "cells": [
  {
   "cell_type": "markdown",
   "id": "45601ed4-92a7-4218-9f64-524ca93eb52d",
   "metadata": {},
   "source": [
    "# for XP_799905"
   ]
  },
  {
   "cell_type": "code",
   "execution_count": 30,
   "id": "0221b29a-1488-47ab-9f87-6ede8b0af6e7",
   "metadata": {},
   "outputs": [
    {
     "data": {
      "text/plain": [
       "[44, 238]"
      ]
     },
     "execution_count": 30,
     "metadata": {},
     "output_type": "execute_result"
    }
   ],
   "source": [
    "import pandas as pd\n",
    "\n",
    "# Load the CSV file\n",
    "file_path = '/Users/zhanglinqi/Documents/GitHub/EchinoGen/Acetylation of the four sea urchin proteins/XP_799905_result.csv'\n",
    "data = pd.read_csv(file_path)\n",
    "# Filtering the dataframe to select rows where p-value < 0.08\n",
    "filtered_data = data[data['p-value'] < 0.08]\n",
    "\n",
    "# Extract the numbers at the end of the \"site\" column into an array\n",
    "\n",
    "# Using a list comprehension to extract the number after the last underscore in each row of the \"site\" column\n",
    "numbers_array_1 = [int(row.split('_')[-1]) for row in filtered_data['site']]\n",
    "\n",
    "numbers_array_1"
   ]
  },
  {
   "cell_type": "markdown",
   "id": "f4abd704-64dc-496f-a880-8d12a15c3ffd",
   "metadata": {},
   "source": [
    "# for XP_801757"
   ]
  },
  {
   "cell_type": "code",
   "execution_count": 31,
   "id": "00bf6f98-572f-41ad-8768-54999f7ff0ad",
   "metadata": {},
   "outputs": [
    {
     "data": {
      "text/plain": [
       "[184, 302]"
      ]
     },
     "execution_count": 31,
     "metadata": {},
     "output_type": "execute_result"
    }
   ],
   "source": [
    "import pandas as pd\n",
    "\n",
    "# Load the CSV file\n",
    "file_path = '/Users/zhanglinqi/Documents/GitHub/EchinoGen/Acetylation of the four sea urchin proteins/XP_801757_result.csv'\n",
    "data = pd.read_csv(file_path)\n",
    "# Filtering the dataframe to select rows where p-value < 0.08\n",
    "filtered_data = data[data['p-value'] < 0.08]\n",
    "\n",
    "# Extract the numbers at the end of the \"site\" column into an array\n",
    "\n",
    "# Using a list comprehension to extract the number after the last underscore in each row of the \"site\" column\n",
    "numbers_array_2 = [int(row.split('_')[-1]) for row in filtered_data['site']]\n",
    "\n",
    "numbers_array_2"
   ]
  },
  {
   "cell_type": "markdown",
   "id": "44ac8b4c-8b1e-4277-a8da-dade8b1f2ba5",
   "metadata": {},
   "source": [
    "# for XP_003724498"
   ]
  },
  {
   "cell_type": "code",
   "execution_count": 32,
   "id": "6e1125d3-b635-4be9-bf4b-de7c555840c0",
   "metadata": {},
   "outputs": [
    {
     "data": {
      "text/plain": [
       "[184, 302]"
      ]
     },
     "execution_count": 32,
     "metadata": {},
     "output_type": "execute_result"
    }
   ],
   "source": [
    "import pandas as pd\n",
    "\n",
    "# Load the CSV file\n",
    "file_path = '/Users/zhanglinqi/Documents/GitHub/EchinoGen/Acetylation of the four sea urchin proteins/XP_003724498_result.csv'\n",
    "data = pd.read_csv(file_path)\n",
    "# Filtering the dataframe to select rows where p-value < 0.08\n",
    "filtered_data = data[data['p-value'] < 0.08]\n",
    "\n",
    "# Extract the numbers at the end of the \"site\" column into an array\n",
    "\n",
    "# Using a list comprehension to extract the number after the last underscore in each row of the \"site\" column\n",
    "numbers_array_3 = [int(row.split('_')[-1]) for row in filtered_data['site']]\n",
    "\n",
    "numbers_array_3"
   ]
  },
  {
   "cell_type": "markdown",
   "id": "71fae047-896d-4865-9fe7-1d1be4358a31",
   "metadata": {},
   "source": [
    "# for XP_003724499"
   ]
  },
  {
   "cell_type": "code",
   "execution_count": 33,
   "id": "4dfb8f10-60de-413f-819e-b4d638aafc27",
   "metadata": {},
   "outputs": [
    {
     "data": {
      "text/plain": [
       "[184, 302]"
      ]
     },
     "execution_count": 33,
     "metadata": {},
     "output_type": "execute_result"
    }
   ],
   "source": [
    "import pandas as pd\n",
    "\n",
    "# Load the CSV file\n",
    "file_path = '/Users/zhanglinqi/Documents/GitHub/EchinoGen/Acetylation of the four sea urchin proteins/XP_003724499_result.csv'\n",
    "data = pd.read_csv(file_path)\n",
    "# Filtering the dataframe to select rows where p-value < 0.08\n",
    "filtered_data = data[data['p-value'] < 0.08]\n",
    "\n",
    "# Extract the numbers at the end of the \"site\" column into an array\n",
    "\n",
    "# Using a list comprehension to extract the number after the last underscore in each row of the \"site\" column\n",
    "numbers_array_4 = [int(row.split('_')[-1]) for row in filtered_data['site']]\n",
    "\n",
    "numbers_array_4"
   ]
  },
  {
   "cell_type": "markdown",
   "id": "6e0f2006-2383-4cf1-bf29-f1612b39f6fe",
   "metadata": {},
   "source": [
    "# Combine the arrays and store as a csv file"
   ]
  },
  {
   "cell_type": "code",
   "execution_count": 36,
   "id": "c9915281-7289-4b83-965e-c8bfb497a129",
   "metadata": {},
   "outputs": [
    {
     "data": {
      "text/plain": [
       "'/Users/zhanglinqi/Documents/GitHub/EchinoGen/Acetylation of the four sea urchin proteins/combined_arrays_rows.csv'"
      ]
     },
     "execution_count": 36,
     "metadata": {},
     "output_type": "execute_result"
    }
   ],
   "source": [
    "# Creating a new DataFrame with each array as a row\n",
    "row_names = ['XP_799905', 'XP_801757', 'XP_003724498', 'XP_003724499']\n",
    "combined_df_rows = pd.DataFrame([numbers_array_1, numbers_array_2, numbers_array_3, numbers_array_4], index=row_names)\n",
    "\n",
    "# Transposing the DataFrame so that each array becomes a row\n",
    "# Note: This step is actually redundant since we're directly creating rows, but kept for explanation clarity\n",
    "\n",
    "# Specifying a new output CSV file path for the combined arrays (row-wise)\n",
    "combined_rows_csv_path = '/Users/zhanglinqi/Documents/GitHub/EchinoGen/Acetylation of the four sea urchin proteins/combined_arrays_rows.csv'\n",
    "\n",
    "# Saving the DataFrame to a CSV file\n",
    "combined_df_rows.to_csv(combined_rows_csv_path, header=False)\n",
    "\n",
    "combined_rows_csv_path"
   ]
  },
  {
   "cell_type": "code",
   "execution_count": null,
   "id": "ab8108fa-92df-4002-a756-a7800031f6dc",
   "metadata": {},
   "outputs": [],
   "source": []
  }
 ],
 "metadata": {
  "kernelspec": {
   "display_name": "Python 3 (ipykernel)",
   "language": "python",
   "name": "python3"
  },
  "language_info": {
   "codemirror_mode": {
    "name": "ipython",
    "version": 3
   },
   "file_extension": ".py",
   "mimetype": "text/x-python",
   "name": "python",
   "nbconvert_exporter": "python",
   "pygments_lexer": "ipython3",
   "version": "3.11.5"
  }
 },
 "nbformat": 4,
 "nbformat_minor": 5
}
