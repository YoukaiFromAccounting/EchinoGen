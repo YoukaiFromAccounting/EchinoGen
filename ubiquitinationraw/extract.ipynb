{
 "cells": [
  {
   "cell_type": "code",
   "execution_count": 9,
   "metadata": {},
   "outputs": [
    {
     "name": "stdout",
     "output_type": "stream",
     "text": [
      "33+46+50+83+112+168+184+194+210+215+250+302+309+318+322+342+378+416+493+525\n"
     ]
    }
   ],
   "source": [
    "# Path to the file\n",
    "file_path = 'isoformX3.fasta_ubicolor'\n",
    "\n",
    "# Read the file and skip the first three lines\n",
    "with open(file_path, 'r') as file:\n",
    "    lines = file.readlines()[3:]  # Skip the first three lines\n",
    "\n",
    "# Extract the position number from each line\n",
    "positions = [line.split('\\t')[0] for line in lines]\n",
    "\n",
    "# Concatenate all position numbers with '+'\n",
    "concatenated_positions = '+'.join(positions)\n",
    "\n",
    "# Print the result\n",
    "print(concatenated_positions)\n"
   ]
  }
 ],
 "metadata": {
  "kernelspec": {
   "display_name": "csb",
   "language": "python",
   "name": "python3"
  },
  "language_info": {
   "codemirror_mode": {
    "name": "ipython",
    "version": 3
   },
   "file_extension": ".py",
   "mimetype": "text/x-python",
   "name": "python",
   "nbconvert_exporter": "python",
   "pygments_lexer": "ipython3",
   "version": "3.10.13"
  }
 },
 "nbformat": 4,
 "nbformat_minor": 2
}
